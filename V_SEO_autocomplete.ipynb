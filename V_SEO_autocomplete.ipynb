{
  "cells": [
    {
      "cell_type": "markdown",
      "metadata": {
        "id": "view-in-github",
        "colab_type": "text"
      },
      "source": [
        "<a href=\"https://colab.research.google.com/github/thehesam/v-seo/blob/autocomplete/V_SEO_autocomplete.ipynb\" target=\"_parent\"><img src=\"https://colab.research.google.com/assets/colab-badge.svg\" alt=\"Open In Colab\"/></a>"
      ]
    },
    {
      "cell_type": "markdown",
      "source": [
        "for any question or suggest:\n",
        "\n",
        "Email: hesam.hoseini135@gmail.com,\n",
        "\n",
        "find me at: https://www.linkedin.com/in/seyedhesamhosseini/"
      ],
      "metadata": {
        "id": "3JBIz5IM6NGk"
      }
    },
    {
      "cell_type": "code",
      "execution_count": null,
      "metadata": {
        "id": "17cY0E0e4m8L"
      },
      "outputs": [],
      "source": [
        "import requests\n",
        "import json\n",
        "import string\n",
        "import pandas as pd\n",
        "import time\n",
        "\n",
        "#config\n",
        "rootQuery = ['قهوه ترک']\n",
        "region = 'fa'\n",
        "lang = 'ir'\n",
        "loop_depth = 3\n",
        "alphabet = ['ض','ص','ث','ق','ف','غ','ع','ه','خ','ح','ج','چ','پ','ش','س','ی','ب','ل','ا','ت','ن','م','ک','گ','ظ','ط','ز','ر','ذ','د','و','.',' ','چرا','چطور','چگونه','از کجا','کدام','روش','نحوه','خرید','قیمت','آموزش']\n",
        "\n",
        "\n",
        "kwdataframe = pd.DataFrame(columns=['Keywords'])\n",
        "\n",
        "def apicall(query='', cp=None, hl='fa', gl='ir'):\n",
        "    url = f\"https://www.google.com/complete/search?q={query}&cp={cp}&client=chrome&hl={hl}-{gl}\"\n",
        "    res = requests.get(url=url)\n",
        "    return res\n",
        "    \n",
        "def apicallUrl(url):\n",
        "    res = requests.get(url=url)\n",
        "    return res     \n",
        "\n",
        "\n",
        "#thread options\n",
        "import concurrent\n",
        "from concurrent.futures import ThreadPoolExecutor\n",
        "threads = 20\n",
        "\n",
        "#main keywords fetch based on depth\n",
        "query_dict = [{'queries':rootQuery, 'suggests':[], 'depth': 0}]\n",
        "for i in range(0,loop_depth):\n",
        "    keywords = query_dict[i]['queries']\n",
        "    mainList = [] \n",
        "    for kw in keywords:\n",
        "        suggestlist = []\n",
        "        cp_number = len(kw)\n",
        "        indices = [key for key, value in enumerate(kw) if value == ' ']\n",
        "        spaces = [0,cp_number] + indices\n",
        "        with ThreadPoolExecutor(max_workers=threads) as executor:\n",
        "            future_to_url = {executor.submit(apicall, kw,item,lang,region) for item in spaces}\n",
        "            for future in concurrent.futures.as_completed(future_to_url):\n",
        "                try:\n",
        "                    response = future.result()\n",
        "                    results = response.json()[1]\n",
        "                    tdf = pd.DataFrame(results, columns=['Keywords'])\n",
        "                    kwdataframe = pd.concat([kwdataframe, tdf], ignore_index=True, sort=False)\n",
        "                    kwdataframe = kwdataframe.drop_duplicates(subset=['Keywords'])\n",
        "                    kwdataframe.to_csv('final.csv')\n",
        "                    for res in results:\n",
        "                        mainList.append(res)\n",
        "\n",
        "                except Exception as e:\n",
        "                    print('Looks like something went wrong:', e)\n",
        "                    response.status_code\n",
        "        #suggest links generate\n",
        "        urllist = []\n",
        "        for atoz in alphabet:\n",
        "            #pre\n",
        "            suggestQuery = atoz + ' ' + kw\n",
        "            for tcp in [0,1,2]:\n",
        "                tempurl = f\"https://www.google.com/complete/search?q={suggestQuery}&cp={tcp}&client=chrome&hl={lang}-{region}\"\n",
        "                urllist.append(tempurl)\n",
        "            #post\n",
        "            suggestQuery = kw + ' ' + atoz\n",
        "            for tcp in [len(suggestQuery), len(suggestQuery) - 1]:\n",
        "                tempurl = f\"https://www.google.com/complete/search?q={suggestQuery}&cp={tcp}&client=chrome&hl={lang}-{region}\"\n",
        "                urllist.append(tempurl)\n",
        "            #mid\n",
        "            for item in spaces:\n",
        "                suggestQuery = kw[:item] + ' ' + atoz + ' ' + kw[item:]\n",
        "                for tcp in [item + 1, item + 2, item + 3]:\n",
        "                        tempurl = f\"https://www.google.com/complete/search?q={suggestQuery}&cp={tcp}&client=chrome&hl={lang}-{region}\"\n",
        "                        urllist.append(tempurl)\n",
        "        #suggest fetch\n",
        "        with ThreadPoolExecutor(max_workers=threads) as executor:\n",
        "            future_to_url = {executor.submit(apicallUrl, urltoget) for urltoget in urllist}\n",
        "            for future in concurrent.futures.as_completed(future_to_url):\n",
        "                try:\n",
        "                    response = future.result()\n",
        "                    results = response.json()[1]\n",
        "                    tdf = pd.DataFrame(results, columns=['Keywords'])\n",
        "                    kwdataframe = pd.concat([kwdataframe, tdf], ignore_index=True, sort=False)\n",
        "                    kwdataframe = kwdataframe.drop_duplicates(subset=['Keywords'])\n",
        "                    kwdataframe.to_csv('final.csv')\n",
        "                    for res in results:\n",
        "                        mainList.append(res)\n",
        "                except Exception as e:\n",
        "                    print('Looks like something went wrong:', e)\n",
        "                    response.status_code\n",
        "        print('sleeping')\n",
        "        time.sleep(20)\n",
        "    query_dict[i]['suggests'] = suggestlist\n",
        "    query_dict.append({'queries':mainList,'depth':i+1})"
      ]
    }
  ],
  "metadata": {
    "kernelspec": {
      "display_name": "Python 3.10.5 64-bit",
      "language": "python",
      "name": "python3"
    },
    "language_info": {
      "codemirror_mode": {
        "name": "ipython",
        "version": 3
      },
      "file_extension": ".py",
      "mimetype": "text/x-python",
      "name": "python",
      "nbconvert_exporter": "python",
      "pygments_lexer": "ipython3",
      "version": "3.10.5"
    },
    "orig_nbformat": 4,
    "vscode": {
      "interpreter": {
        "hash": "107d7b120a5b68773a87d4067e673630b35702e55ebab3138143d08b1c4d7cbc"
      }
    },
    "colab": {
      "name": "V-SEO-autocomplete.ipynb",
      "provenance": [],
      "include_colab_link": true
    }
  },
  "nbformat": 4,
  "nbformat_minor": 0
}